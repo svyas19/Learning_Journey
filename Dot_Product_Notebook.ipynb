{
 "cells": [
  {
   "cell_type": "markdown",
   "id": "9452fb34",
   "metadata": {},
   "source": [
    "\n",
    "# 📘 **Dot Product - Theory, Examples, and Coding**\n",
    "\n",
    "## 📌 **Introduction**\n",
    "The dot product (also called the **inner product** or **scalar product**) is a fundamental operation used in:\n",
    "- **Machine Learning (Linear Regression, Neural Networks)**\n",
    "- **Computer Vision (Vector Similarity)**\n",
    "- **Physics and Geometry (Vector Projections, Work Calculation)**\n",
    "\n",
    "This notebook covers:\n",
    "✅ **Mathematical theory**  \n",
    "✅ **Geometric interpretation**  \n",
    "✅ **Coding implementations**  \n",
    "✅ **Assignments for hands-on practice**  \n",
    "\n",
    "---\n",
    "\n",
    "## 🔢 **Definition of Dot Product**\n",
    "\n",
    "For two vectors **a** and **b** with **n** components:\n",
    "\n",
    "**a · b = a₁b₁ + a₂b₂ + ... + aₙbₙ**\n",
    "\n",
    "👉 **Result:** A single scalar value.\n",
    "\n",
    "---\n"
   ]
  },
  {
   "cell_type": "markdown",
   "id": "604c1afd",
   "metadata": {},
   "source": [
    "\n",
    "## 🎯 **Geometric Interpretation**\n",
    "\n",
    "The dot product measures **how much one vector aligns with another**.  \n",
    "It is also defined using the angle **θ** between two vectors:\n",
    "\n",
    "### 🖼 **Equation Representation**  \n",
    "![Cosine Similarity Formula](images/cosine_similarity_formula.png)\n",
    "\n",
    "### 🔹 **Observations**:\n",
    "- If **θ = 0°**, vectors are **aligned**, and the dot product is **maximized**.\n",
    "- If **θ = 90°**, vectors are **perpendicular**, and the dot product is **0**.\n",
    "- If **θ = 180°**, vectors are **opposite**, and the dot product is **negative**.\n",
    "\n",
    "### 🖼 **Visual Representation**  \n",
    "![Dot Product](images/dot_product_geometry.png)\n"
   ]
  },
  {
   "cell_type": "markdown",
   "id": "f61b2c0f",
   "metadata": {},
   "source": [
    "\n",
    "## ✅ **Properties of Dot Product**\n",
    "\n",
    "✔ **Commutative Property:**  \n",
    "**a · b = b · a**\n",
    "\n",
    "✔ **Distributive Property:**  \n",
    "**a · (b + c) = a · b + a · c**\n",
    "\n",
    "✔ **Zero Vector Property:** If **two vectors are perpendicular**, their dot product is **0**.\n",
    "\n",
    "---\n",
    "\n",
    "## 📌 **Example Calculation**\n",
    "\n",
    "Let's calculate the dot product of two vectors:\n",
    "\n",
    "**a = [2, 3]**, **b = [4, 5]**\n",
    "\n",
    "Using the formula:\n",
    "\n",
    "**a · b = (2 × 4) + (3 × 5) = 8 + 15 = 23**\n",
    "\n",
    "---\n"
   ]
  },
  {
   "cell_type": "code",
   "execution_count": 1,
   "id": "c282e928",
   "metadata": {},
   "outputs": [
    {
     "name": "stdout",
     "output_type": "stream",
     "text": [
      "Requirement already satisfied: numpy in c:\\users\\shivv\\learning_journey_github\\.venv\\lib\\site-packages (2.2.2)\n"
     ]
    }
   ],
   "source": [
    "!pip install numpy"
   ]
  },
  {
   "cell_type": "code",
   "execution_count": 2,
   "id": "38e5f57c",
   "metadata": {},
   "outputs": [
    {
     "name": "stdout",
     "output_type": "stream",
     "text": [
      "Dot Product: 23\n"
     ]
    }
   ],
   "source": [
    "\n",
    "import numpy as np\n",
    "\n",
    "# Define two vectors\n",
    "a = np.array([2, 3])\n",
    "b = np.array([4, 5])\n",
    "\n",
    "# Compute the dot product\n",
    "dot_product = np.dot(a, b)\n",
    "\n",
    "print(\"Dot Product:\", dot_product)  # Expected Output: 23\n"
   ]
  },
  {
   "cell_type": "markdown",
   "id": "bdd69516",
   "metadata": {},
   "source": [
    "\n",
    "---\n",
    "\n",
    "## 🔥 **Applications of Dot Product in ML**\n",
    "\n",
    "🔹 **Linear Regression:** Predictions are computed as:\n",
    "\n",
    "**ŷ = X · W**\n",
    "\n",
    "where **X** is the feature matrix, **W** is the weight vector.\n",
    "\n",
    "🔹 **Neural Networks: The Weighted Sum of Inputs**\n",
    "\n",
    "In a neural network, the weighted sum of inputs before applying an activation function is given by:\n",
    "\n",
    "\\(\n",
    "z = W \\cdot X + b\n",
    "\\)\n",
    "\n",
    "where:\n",
    "- **\\( W \\)** → **Weight Matrix** (adjusts the importance of each input feature)\n",
    "- **\\( X \\)** → **Input Vector** (features or data points given to the neuron)\n",
    "- **\\( b \\)** → **Bias Term** (allows shifting the activation function)\n",
    "- **\\( z \\)** → **Linear Combination of Inputs** (before passing through activation function)\n",
    "\n",
    "---\n",
    "\n",
    "### **🔹 What is Bias (\\( b \\))?**\n",
    "The **bias (\\( b \\))** is an additional trainable parameter in neural networks that helps the model learn patterns **even when all inputs are zero**.  \n",
    "\n",
    "It **shifts the activation function** left or right to better fit the data.\n",
    "\n",
    "---\n",
    "\n",
    "### **🔹 Why is Bias Important?**\n",
    "✔ **Allows flexibility**: Without bias, the neuron would always pass through the origin.  \n",
    "✔ **Prevents strict dependence on inputs**: Helps the model learn complex relationships.  \n",
    "✔ **Enables better learning**: Allows neural networks to fit the data more effectively.\n",
    "\n",
    "---\n",
    "\n",
    "### **🔹 Example Calculation**\n",
    "If:\n",
    "\n",
    "\\(\n",
    "W = [0.5, 1.2], \\quad X = [3, 5], \\quad b = 2\n",
    "\\)\n",
    "\n",
    "Then:\n",
    "\n",
    "\\(\n",
    "z = (0.5 \times 3) + (1.2 \times 5) + 2\n",
    "\\)\n",
    "\n",
    "\\(\n",
    "z = 1.5 + 6 + 2 = 9.5\n",
    "\\)\n",
    "\n",
    "This **output (\\( z \\)) is then passed through an activation function** (e.g., ReLU, Sigmoid) to introduce non-linearity.\n",
    "\n",
    "---\n",
    "\n",
    "### **🔹 Visual Intuition**\n",
    "If we were to **plot \\( W \\cdot X \\) vs. the output \\( z \\)**, the bias **shifts the entire function up or down**.\n",
    "\n",
    "---\n",
    "\n",
    "🚀 **Bias ensures that the neuron can activate at different thresholds, making the network more powerful and capable of learning complex patterns!**  \n",
    "\n"
   ]
  },
  {
   "cell_type": "markdown",
   "id": "d3d5d2ea",
   "metadata": {},
   "source": [
    "\n",
    "---\n",
    "\n",
    "## 📝 **Assignments: Practice Problems**\n",
    "\n",
    "### 🖼 **Problem Statement**  \n",
    "![Assignment Problem](images/dot_product_assignment_fixed.png)\n",
    "\n",
    "✅ **1️⃣ Compute the dot product of the given vectors in the image.**\n",
    "\n",
    "✅ **2️⃣ Write a Python function to compute the dot product _without using NumPy_.**\n",
    "\n",
    "✅ **3️⃣ Compute the angle **θ** between the two vectors using the given formula.**\n",
    "\n",
    "---\n",
    "\n",
    "**🚀 Complete these exercises and test your understanding!**  \n"
   ]
  }
 ],
 "metadata": {
  "kernelspec": {
   "display_name": ".venv",
   "language": "python",
   "name": "python3"
  },
  "language_info": {
   "codemirror_mode": {
    "name": "ipython",
    "version": 3
   },
   "file_extension": ".py",
   "mimetype": "text/x-python",
   "name": "python",
   "nbconvert_exporter": "python",
   "pygments_lexer": "ipython3",
   "version": "3.12.7"
  }
 },
 "nbformat": 4,
 "nbformat_minor": 5
}
