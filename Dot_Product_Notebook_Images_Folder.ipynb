{
 "cells": [
  {
   "cell_type": "markdown",
   "id": "914967f1",
   "metadata": {},
   "source": [
    "\n",
    "# 📘 **Dot Product - Theory, Examples, and Coding**\n",
    "\n",
    "## 📌 **Introduction**\n",
    "The dot product (also called the **inner product** or **scalar product**) is a fundamental operation used in:\n",
    "- **Machine Learning (Linear Regression, Neural Networks)**\n",
    "- **Computer Vision (Vector Similarity)**\n",
    "- **Physics and Geometry (Vector Projections, Work Calculation)**\n",
    "\n",
    "This notebook covers:\n",
    "✅ **Mathematical theory**  \n",
    "✅ **Geometric interpretation**  \n",
    "✅ **Coding implementations**  \n",
    "✅ **Assignments for hands-on practice**  \n",
    "\n",
    "---\n",
    "\n",
    "## 🔢 **Definition of Dot Product**\n",
    "\n",
    "For two vectors **a** and **b** with **n** components:\n",
    "\n",
    "**a · b = a₁b₁ + a₂b₂ + ... + aₙbₙ**\n",
    "\n",
    "👉 **Result:** A single scalar value.\n",
    "\n",
    "---\n"
   ]
  },
  {
   "cell_type": "markdown",
   "id": "e8b2bb84",
   "metadata": {},
   "source": [
    "\n",
    "## 🎯 **Geometric Interpretation**\n",
    "\n",
    "The dot product measures **how much one vector aligns with another**.  \n",
    "It is also defined using the angle **θ** between two vectors:\n",
    "\n",
    "### 🖼 **Equation Representation**  \n",
    "![Cosine Similarity Formula](images/cosine_similarity_formula.png)\n",
    "\n",
    "### 🔹 **Observations**:\n",
    "- If **θ = 0°**, vectors are **aligned**, and the dot product is **maximized**.\n",
    "- If **θ = 90°**, vectors are **perpendicular**, and the dot product is **0**.\n",
    "- If **θ = 180°**, vectors are **opposite**, and the dot product is **negative**.\n",
    "\n",
    "### 🖼 **Visual Representation**  \n",
    "![Dot Product](images/dot_product_geometry.png)\n"
   ]
  },
  {
   "cell_type": "markdown",
   "id": "ebbae69e",
   "metadata": {},
   "source": [
    "\n",
    "## ✅ **Properties of Dot Product**\n",
    "\n",
    "✔ **Commutative Property:**  \n",
    "**a · b = b · a**\n",
    "\n",
    "✔ **Distributive Property:**  \n",
    "**a · (b + c) = a · b + a · c**\n",
    "\n",
    "✔ **Zero Vector Property:** If **two vectors are perpendicular**, their dot product is **0**.\n",
    "\n",
    "---\n",
    "\n",
    "## 📌 **Example Calculation**\n",
    "\n",
    "Let's calculate the dot product of two vectors:\n",
    "\n",
    "**a = [2, 3]**, **b = [4, 5]**\n",
    "\n",
    "Using the formula:\n",
    "\n",
    "**a · b = (2 × 4) + (3 × 5) = 8 + 15 = 23**\n",
    "\n",
    "---\n"
   ]
  },
  {
   "cell_type": "code",
   "execution_count": 2,
   "id": "7dbcc49d",
   "metadata": {},
   "outputs": [
    {
     "name": "stdout",
     "output_type": "stream",
     "text": [
      "Requirement already satisfied: numpy in c:\\users\\shivv\\anaconda3\\lib\\site-packages (1.26.4)\n"
     ]
    }
   ],
   "source": [
    "!pip install numpy\n"
   ]
  },
  {
   "cell_type": "code",
   "execution_count": 7,
   "id": "f2cbcf61",
   "metadata": {},
   "outputs": [
    {
     "ename": "ModuleNotFoundError",
     "evalue": "No module named 'numpy'",
     "output_type": "error",
     "traceback": [
      "\u001b[1;31m---------------------------------------------------------------------------\u001b[0m",
      "\u001b[1;31mModuleNotFoundError\u001b[0m                       Traceback (most recent call last)",
      "Cell \u001b[1;32mIn[7], line 1\u001b[0m\n\u001b[1;32m----> 1\u001b[0m \u001b[38;5;28;01mimport\u001b[39;00m\u001b[38;5;250m \u001b[39m\u001b[38;5;21;01mnumpy\u001b[39;00m\u001b[38;5;250m \u001b[39m\u001b[38;5;28;01mas\u001b[39;00m\u001b[38;5;250m \u001b[39m\u001b[38;5;21;01mnp\u001b[39;00m\n\u001b[0;32m      3\u001b[0m \u001b[38;5;66;03m# Define two vectors\u001b[39;00m\n\u001b[0;32m      4\u001b[0m a \u001b[38;5;241m=\u001b[39m np\u001b[38;5;241m.\u001b[39marray([\u001b[38;5;241m2\u001b[39m, \u001b[38;5;241m3\u001b[39m])\n",
      "\u001b[1;31mModuleNotFoundError\u001b[0m: No module named 'numpy'"
     ]
    }
   ],
   "source": [
    "\n",
    "import numpy as np\n",
    "\n",
    "# Define two vectors\n",
    "a = np.array([2, 3])\n",
    "b = np.array([4, 5])\n",
    "\n",
    "# Compute the dot product\n",
    "dot_product = np.dot(a, b)\n",
    "\n",
    "print(\"Dot Product:\", dot_product)  # Expected Output: 23\n"
   ]
  },
  {
   "cell_type": "markdown",
   "id": "34af4500",
   "metadata": {},
   "source": [
    "\n",
    "---\n",
    "\n",
    "## 🔥 **Applications of Dot Product in ML**\n",
    "\n",
    "🔹 **Linear Regression:** Predictions are computed as:\n",
    "\n",
    "**ŷ = X · W**\n",
    "\n",
    "where **X** is the feature matrix, **W** is the weight vector.\n",
    "\n",
    "🔹 **Neural Networks:** The weighted sum of inputs in a neuron is computed as:\n",
    "\n",
    "**z = W · X + b**\n",
    "\n",
    "🔹 **Cosine Similarity:** Used in NLP to measure similarity:\n",
    "\n",
    "### 🖼 **Equation Representation**  \n",
    "![Cosine Similarity Formula](images/cosine_similarity_formula.png)\n"
   ]
  },
  {
   "cell_type": "markdown",
   "id": "74791941",
   "metadata": {},
   "source": [
    "\n",
    "---\n",
    "\n",
    "## 📝 **Assignments: Practice Problems**\n",
    "\n",
    "### 🖼 **Problem Statement**  \n",
    "![Assignment Problem](images/dot_product_assignment_fixed.png)\n",
    "\n",
    "✅ **1️⃣ Compute the dot product of the given vectors in the image.**\n",
    "\n",
    "✅ **2️⃣ Write a Python function to compute the dot product _without using NumPy_.**\n",
    "\n",
    "✅ **3️⃣ Compute the angle **θ** between the two vectors using the given formula.**\n",
    "\n",
    "---\n",
    "\n",
    "**🚀 Complete these exercises and test your understanding!**  \n"
   ]
  }
 ],
 "metadata": {
  "kernelspec": {
   "display_name": "Python 3",
   "language": "python",
   "name": "python3"
  },
  "language_info": {
   "codemirror_mode": {
    "name": "ipython",
    "version": 3
   },
   "file_extension": ".py",
   "mimetype": "text/x-python",
   "name": "python",
   "nbconvert_exporter": "python",
   "pygments_lexer": "ipython3",
   "version": "3.12.7"
  }
 },
 "nbformat": 4,
 "nbformat_minor": 5
}
